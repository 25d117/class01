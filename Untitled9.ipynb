{
  "nbformat": 4,
  "nbformat_minor": 0,
  "metadata": {
    "colab": {
      "provenance": [],
      "authorship_tag": "ABX9TyNwxsTE3OXBd51yG6OOLMWb",
      "include_colab_link": true
    },
    "kernelspec": {
      "name": "python3",
      "display_name": "Python 3"
    },
    "language_info": {
      "name": "python"
    }
  },
  "cells": [
    {
      "cell_type": "markdown",
      "metadata": {
        "id": "view-in-github",
        "colab_type": "text"
      },
      "source": [
        "<a href=\"https://colab.research.google.com/github/25d117/class01/blob/main/Untitled9.ipynb\" target=\"_parent\"><img src=\"https://colab.research.google.com/assets/colab-badge.svg\" alt=\"Open In Colab\"/></a>"
      ]
    },
    {
      "cell_type": "code",
      "execution_count": null,
      "metadata": {
        "colab": {
          "base_uri": "https://localhost:8080/"
        },
        "id": "QSxC6PSUWyTf",
        "outputId": "95fc0864-b9aa-41d8-921c-faacbc600f52"
      },
      "outputs": [
        {
          "output_type": "stream",
          "name": "stdout",
          "text": [
            "덧셈 게임 시작!\n",
            "1부터 9까지의 숫자 두 개를 더해볼까?\n"
          ]
        }
      ],
      "source": [
        "# prompt: 초등학교 1학년 동생에게 덧셈을 연습할수 있는 쉬운 게임 하나 만들어줘\n",
        "\n",
        "import random\n",
        "\n",
        "def easy_addition_game():\n",
        "  \"\"\"초등학교 1학년 동생을 위한 쉬운 덧셈 게임.\"\"\"\n",
        "\n",
        "  print(\"덧셈 게임 시작!\")\n",
        "  print(\"1부터 9까지의 숫자 두 개를 더해볼까?\")\n",
        "\n",
        "  score = 0\n",
        "  for _ in range(5):  # 5번의 문제 출제\n",
        "    num1 = random.randint(1, 9)\n",
        "    num2 = random.randint(1, 9)\n",
        "    correct_answer = num1 + num2\n",
        "\n",
        "    while True:\n",
        "      try:\n",
        "        user_answer = int(input(f\"{num1} + {num2} = ? \"))\n",
        "        break\n",
        "      except ValueError:\n",
        "        print(\"숫자를 입력해주세요!\")\n",
        "    if user_answer == correct_answer:\n",
        "      print(\"정답!\")\n",
        "      score += 1\n",
        "    else:\n",
        "      print(f\"땡! 정답은 {correct_answer}입니다.\")\n",
        "\n",
        "  print(f\"\\n게임 끝! 총 {score}개 맞혔어요.\")\n",
        "\n",
        "\n",
        "  if score == 5:\n",
        "      print(\"와우! 전부 맞혔네요! 정말 똑똑하네요!\")\n",
        "  elif score >=3:\n",
        "      print(\"잘했어요!\")\n",
        "  else:\n",
        "      print(\"다음에는 더 잘 할 수 있을 거예요!\")\n",
        "\n",
        "if __name__ == \"__main__\":\n",
        "  easy_addition_game()\n"
      ]
    }
  ]
}