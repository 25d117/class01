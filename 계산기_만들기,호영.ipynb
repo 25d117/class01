{
  "nbformat": 4,
  "nbformat_minor": 0,
  "metadata": {
    "colab": {
      "provenance": [],
      "authorship_tag": "ABX9TyOG4idlY96WRsRvLQ6a1a9w",
      "include_colab_link": true
    },
    "kernelspec": {
      "name": "python3",
      "display_name": "Python 3"
    },
    "language_info": {
      "name": "python"
    }
  },
  "cells": [
    {
      "cell_type": "markdown",
      "metadata": {
        "id": "view-in-github",
        "colab_type": "text"
      },
      "source": [
        "<a href=\"https://colab.research.google.com/github/25d117/class01/blob/main/%EA%B3%84%EC%82%B0%EA%B8%B0_%EB%A7%8C%EB%93%A4%EA%B8%B0%2C%ED%98%B8%EC%98%81.ipynb\" target=\"_parent\"><img src=\"https://colab.research.google.com/assets/colab-badge.svg\" alt=\"Open In Colab\"/></a>"
      ]
    },
    {
      "cell_type": "code",
      "execution_count": 1,
      "metadata": {
        "colab": {
          "base_uri": "https://localhost:8080/"
        },
        "id": "4_7GGXaVRi4E",
        "outputId": "043c46a6-7f95-4ebb-b9f4-e9fbeacff620"
      },
      "outputs": [
        {
          "output_type": "stream",
          "name": "stdout",
          "text": [
            "첫 번째 숫자를 입력하세요: 1\n",
            "연산자 (+, -, *, /)를 입력하세요: +\n",
            "두 번째 숫자를 입력하세요: 2\n",
            "결과: 3.0\n"
          ]
        }
      ],
      "source": [
        "# prompt: 사칙연산이 가능한 계산기 프로그램 만들어줘\n",
        "\n",
        "def calculator():\n",
        "  num1 = float(input(\"첫 번째 숫자를 입력하세요: \"))\n",
        "  operator = input(\"연산자 (+, -, *, /)를 입력하세요: \")\n",
        "  num2 = float(input(\"두 번째 숫자를 입력하세요: \"))\n",
        "\n",
        "  if operator == '+':\n",
        "    result = num1 + num2\n",
        "  elif operator == '-':\n",
        "    result = num1 - num2\n",
        "  elif operator == '*':\n",
        "    result = num1 * num2\n",
        "  elif operator == '/':\n",
        "    if num2 == 0:\n",
        "      print(\"0으로 나눌 수 없습니다.\")\n",
        "      return\n",
        "    result = num1 / num2\n",
        "  else:\n",
        "    print(\"올바른 연산자를 입력하세요.\")\n",
        "    return\n",
        "\n",
        "  print(f\"결과: {result}\")\n",
        "\n",
        "calculator()"
      ]
    }
  ]
}