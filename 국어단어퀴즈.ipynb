{
  "nbformat": 4,
  "nbformat_minor": 0,
  "metadata": {
    "colab": {
      "provenance": [],
      "authorship_tag": "ABX9TyMxikVpy45qvhpIu0C6Z+tK",
      "include_colab_link": true
    },
    "kernelspec": {
      "name": "python3",
      "display_name": "Python 3"
    },
    "language_info": {
      "name": "python"
    }
  },
  "cells": [
    {
      "cell_type": "markdown",
      "metadata": {
        "id": "view-in-github",
        "colab_type": "text"
      },
      "source": [
        "<a href=\"https://colab.research.google.com/github/25d117/class01/blob/main/%EA%B5%AD%EC%96%B4%EB%8B%A8%EC%96%B4%ED%80%B4%EC%A6%88.ipynb\" target=\"_parent\"><img src=\"https://colab.research.google.com/assets/colab-badge.svg\" alt=\"Open In Colab\"/></a>"
      ]
    },
    {
      "cell_type": "code",
      "execution_count": 6,
      "metadata": {
        "colab": {
          "base_uri": "https://localhost:8080/"
        },
        "id": "I1v6D2v0OUf0",
        "outputId": "1113d98d-9a0c-46ad-e4fc-24f2b293494f"
      },
      "outputs": [
        {
          "output_type": "stream",
          "name": "stdout",
          "text": [
            "다음 뜻에 맞는 단어를 고르세요: 바라는 마음이나 앞날에 대한 기대\n",
            "단어를 입력하세요: 희망\n",
            "정답입니다!\n"
          ]
        }
      ],
      "source": [
        "# prompt: 간단한 국어 단어  퀴즈 만들어줘. 설명도 하나하나 해줘.\n",
        "\n",
        "import random\n",
        "\n",
        "def korean_word_quiz():\n",
        "  \"\"\"간단한 한국어 단어 퀴즈를 실행합니다.\"\"\"\n",
        "\n",
        "  word_list = {\n",
        "      \"사랑\": \"깊은 애정이나 친애\",\n",
        "      \"행복\": \"즐겁고 만족스러운 기분\",\n",
        "      \"희망\": \"바라는 마음이나 앞날에 대한 기대\",\n",
        "      \"슬픔\": \"마음이 아프고 괴로운 감정\",\n",
        "      \"우정\": \"서로 아끼고 사랑하는 마음\",\n",
        "      \"가족\": \"부모, 자녀, 형제자매 등으로 이루어진 집안\",\n",
        "      \"꿈\": \"자는 동안에 나타나는 상상\",\n",
        "      \"미래\": \"앞으로 다가올 시대\",\n",
        "      \"자유\": \"자신의 의지대로 행동할 수 있는 권리\",\n",
        "      \"평화\": \"전쟁이나 다툼이 없는 상태\"\n",
        "  }\n",
        "\n",
        "  # 퀴즈 문제를 위한 단어와 설명을 무작위로 선택합니다.\n",
        "  selected_word, definition = random.choice(list(word_list.items()))\n",
        "\n",
        "  # 퀴즈를 출력합니다.\n",
        "  print(f\"다음 뜻에 맞는 단어를 고르세요: {definition}\")\n",
        "\n",
        "  # 사용자의 답변을 입력받습니다.\n",
        "  user_answer = input(\"단어를 입력하세요: \")\n",
        "\n",
        "  # 사용자의 답변을 확인하고 결과를 출력합니다.\n",
        "  if user_answer == selected_word:\n",
        "    print(\"정답입니다!\")\n",
        "  else:\n",
        "    print(f\"틀렸습니다. 정답은 {selected_word}입니다.\")\n",
        "\n",
        "if __name__ == \"__main__\":\n",
        "    korean_word_quiz()\n"
      ]
    }
  ]
}