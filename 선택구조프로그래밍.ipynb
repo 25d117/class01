{
  "nbformat": 4,
  "nbformat_minor": 0,
  "metadata": {
    "colab": {
      "provenance": [],
      "authorship_tag": "ABX9TyM4Z0Y0/8cpSwQIKxu1fRAS",
      "include_colab_link": true
    },
    "kernelspec": {
      "name": "python3",
      "display_name": "Python 3"
    },
    "language_info": {
      "name": "python"
    }
  },
  "cells": [
    {
      "cell_type": "markdown",
      "metadata": {
        "id": "view-in-github",
        "colab_type": "text"
      },
      "source": [
        "<a href=\"https://colab.research.google.com/github/25d117/class01/blob/main/%EC%84%A0%ED%83%9D%EA%B5%AC%EC%A1%B0%ED%94%84%EB%A1%9C%EA%B7%B8%EB%9E%98%EB%B0%8D.ipynb\" target=\"_parent\"><img src=\"https://colab.research.google.com/assets/colab-badge.svg\" alt=\"Open In Colab\"/></a>"
      ]
    },
    {
      "cell_type": "code",
      "execution_count": 13,
      "metadata": {
        "colab": {
          "base_uri": "https://localhost:8080/"
        },
        "id": "N-BAK13vfAlM",
        "outputId": "f80b027c-df99-4a44-91fa-d5470e343c12"
      },
      "outputs": [
        {
          "output_type": "stream",
          "name": "stdout",
          "text": [
            "로봇 이동: (13.54, 13.54), 방향: 45°\n",
            "로봇 이동: (17.07, 17.07), 방향: 45°\n",
            "로봇 이동: (20.61, 20.61), 방향: 45°\n",
            "로봇 이동: (24.14, 24.14), 방향: 45°\n",
            "로봇 이동: (27.68, 27.68), 방향: 45°\n",
            "로봇 이동: (31.21, 31.21), 방향: 45°\n",
            "로봇 이동: (34.75, 34.75), 방향: 45°\n",
            "로봇 이동: (38.28, 38.28), 방향: 45°\n",
            "로봇 이동: (41.82, 41.82), 방향: 45°\n",
            "로봇 이동: (45.36, 45.36), 방향: 45°\n",
            "로봇 이동: (48.89, 48.89), 방향: 45°\n",
            "로봇 이동: (52.43, 52.43), 방향: 45°\n",
            "로봇 이동: (55.96, 55.96), 방향: 45°\n",
            "로봇 이동: (59.50, 59.50), 방향: 45°\n",
            "로봇 이동: (63.03, 63.03), 방향: 45°\n",
            "로봇 이동: (66.57, 66.57), 방향: 45°\n",
            "로봇 이동: (70.10, 70.10), 방향: 45°\n",
            "로봇 이동: (73.64, 73.64), 방향: 45°\n",
            "로봇 이동: (77.18, 77.18), 방향: 45°\n",
            "로봇 이동: (80.71, 80.71), 방향: 45°\n",
            "로봇 이동: (84.25, 84.25), 방향: 45°\n",
            "로봇 이동: (87.78, 87.78), 방향: 45°\n",
            "로봇 이동: (91.32, 91.32), 방향: 45°\n",
            "로봇 이동: (94.85, 94.85), 방향: 45°\n",
            "로봇 이동: (98.39, 98.39), 방향: 45°\n",
            "로봇 이동: (101.92, 101.92), 방향: 45°\n",
            "벽에 충돌했습니다!\n",
            "로봇 회전: 새로운 방향 185°\n",
            "로봇 이동: (96.94, 101.49), 방향: 185°\n",
            "벽에 충돌했습니다!\n",
            "로봇 회전: 새로운 방향 325°\n",
            "로봇 이동: (101.04, 98.62), 방향: 325°\n",
            "벽에 충돌했습니다!\n",
            "로봇 회전: 새로운 방향 105°\n",
            "로봇 이동: (99.74, 103.45), 방향: 105°\n",
            "벽에 충돌했습니다!\n",
            "로봇 회전: 새로운 방향 245°\n",
            "로봇 이동: (97.63, 98.92), 방향: 245°\n",
            "로봇 이동: (95.52, 94.39), 방향: 245°\n",
            "로봇 이동: (93.41, 89.86), 방향: 245°\n",
            "로봇 이동: (91.29, 85.32), 방향: 245°\n",
            "로봇 이동: (89.18, 80.79), 방향: 245°\n",
            "로봇 이동: (87.07, 76.26), 방향: 245°\n",
            "로봇 이동: (84.95, 71.73), 방향: 245°\n",
            "로봇 이동: (82.84, 67.20), 방향: 245°\n",
            "로봇 이동: (80.73, 62.67), 방향: 245°\n",
            "로봇 이동: (78.61, 58.13), 방향: 245°\n",
            "로봇 이동: (76.50, 53.60), 방향: 245°\n",
            "로봇 이동: (74.39, 49.07), 방향: 245°\n",
            "로봇 이동: (72.27, 44.54), 방향: 245°\n",
            "로봇 이동: (70.16, 40.01), 방향: 245°\n",
            "로봇 이동: (68.05, 35.48), 방향: 245°\n",
            "로봇 이동: (65.94, 30.95), 방향: 245°\n",
            "로봇 이동: (63.82, 26.41), 방향: 245°\n",
            "로봇 이동: (61.71, 21.88), 방향: 245°\n",
            "로봇 이동: (59.60, 17.35), 방향: 245°\n",
            "로봇 이동: (57.48, 12.82), 방향: 245°\n",
            "로봇 이동: (55.37, 8.29), 방향: 245°\n",
            "시뮬레이션 종료\n"
          ]
        }
      ],
      "source": [
        "# prompt: 선택구조프로그래밍을 이용해서 로봇청소기가 벽에 닿으면 이동 방향을 140도 만큼 회전하는 프로그램 만들어줘[\n",
        "\n",
        "# 로봇 청소기 시뮬레이션을 위한 간단한 코드입니다.\n",
        "# 실제 로봇 제어 코드는 하드웨어 및 라이브러리에 따라 달라집니다.\n",
        "# 이 코드는 개념 이해를 돕기 위한 예시입니다.\n",
        "\n",
        "import math\n",
        "\n",
        "class RobotVacuum:\n",
        "  def __init__(self, x, y, direction_degrees):\n",
        "    self.x = x  # 현재 x 좌표\n",
        "    self.y = y  # 현재 y 좌표\n",
        "    self.direction_degrees = direction_degrees  # 현재 이동 방향 (도)\n",
        "\n",
        "  def move(self, distance):\n",
        "    \"\"\"로봇을 주어진 거리만큼 이동시킵니다.\"\"\"\n",
        "    direction_radians = math.radians(self.direction_degrees)\n",
        "    self.x += distance * math.cos(direction_radians)\n",
        "    self.y += distance * math.sin(direction_radians)\n",
        "    print(f\"로봇 이동: ({self.x:.2f}, {self.y:.2f}), 방향: {self.direction_degrees}°\")\n",
        "\n",
        "  def check_wall_collision(self, environment_size_x, environment_size_y):\n",
        "    \"\"\"벽 충돌 여부를 확인합니다. 간단한 경계 충돌만 확인합니다.\"\"\"\n",
        "    if self.x <= 0 or self.x >= environment_size_x or self.y <= 0 or self.y >= environment_size_y:\n",
        "      print(\"벽에 충돌했습니다!\")\n",
        "      return True\n",
        "    return False\n",
        "\n",
        "  def turn(self, degrees):\n",
        "    \"\"\"로봇의 방향을 주어진 각도만큼 회전시킵니다.\"\"\"\n",
        "    self.direction_degrees = (self.direction_degrees + degrees) % 360\n",
        "    if self.direction_degrees < 0:\n",
        "        self.direction_degrees += 360\n",
        "    print(f\"로봇 회전: 새로운 방향 {self.direction_degrees}°\")\n",
        "\n",
        "\n",
        "# 로봇 청소기 인스턴스 생성\n",
        "robot = RobotVacuum(x=10, y=10, direction_degrees=45) # 초기 위치와 방향 설정\n",
        "\n",
        "# 환경 크기 설정 (간단한 사각형 환경)\n",
        "environment_size_x = 100\n",
        "environment_size_y = 100\n",
        "\n",
        "# 시뮬레이션 실행\n",
        "steps = 50\n",
        "for step in range(steps):\n",
        "  # 이동\n",
        "  move_distance = 5\n",
        "  robot.move(move_distance)\n",
        "\n",
        "  # 벽 충돌 확인 및 방향 전환 (선택 구조 사용)\n",
        "  if robot.check_wall_collision(environment_size_x, environment_size_y):\n",
        "    turn_degrees = 140\n",
        "    robot.turn(turn_degrees)\n",
        "\n",
        "  # 간단한 지연 (실제 로봇은 시간에 따라 움직임)\n",
        "  # import time\n",
        "  # time.sleep(0.1)\n",
        "\n",
        "print(\"시뮬레이션 종료\")\n"
      ]
    },
    {
      "cell_type": "markdown",
      "source": [],
      "metadata": {
        "id": "CQJFGG7JfzFU"
      }
    }
  ]
}