{
  "nbformat": 4,
  "nbformat_minor": 0,
  "metadata": {
    "colab": {
      "provenance": [],
      "authorship_tag": "ABX9TyMVePOp4RDByf7grOEi4QAI",
      "include_colab_link": true
    },
    "kernelspec": {
      "name": "python3",
      "display_name": "Python 3"
    },
    "language_info": {
      "name": "python"
    },
    "widgets": {
      "application/vnd.jupyter.widget-state+json": {
        "6e14ff9dd60e43fdaf4c77b747e22d6e": {
          "model_module": "@jupyter-widgets/controls",
          "model_name": "IntSliderModel",
          "model_module_version": "1.5.0",
          "state": {
            "_dom_classes": [],
            "_model_module": "@jupyter-widgets/controls",
            "_model_module_version": "1.5.0",
            "_model_name": "IntSliderModel",
            "_view_count": null,
            "_view_module": "@jupyter-widgets/controls",
            "_view_module_version": "1.5.0",
            "_view_name": "IntSliderView",
            "continuous_update": true,
            "description": "Grid Size:",
            "description_tooltip": null,
            "disabled": false,
            "layout": "IPY_MODEL_e155fb4238244ab9b6a6cc7fa046bb39",
            "max": 20,
            "min": 5,
            "orientation": "horizontal",
            "readout": true,
            "readout_format": "d",
            "step": 1,
            "style": "IPY_MODEL_83760ba8388a48bcb9d8568b2bd8a687",
            "value": 18
          }
        },
        "e155fb4238244ab9b6a6cc7fa046bb39": {
          "model_module": "@jupyter-widgets/base",
          "model_name": "LayoutModel",
          "model_module_version": "1.2.0",
          "state": {
            "_model_module": "@jupyter-widgets/base",
            "_model_module_version": "1.2.0",
            "_model_name": "LayoutModel",
            "_view_count": null,
            "_view_module": "@jupyter-widgets/base",
            "_view_module_version": "1.2.0",
            "_view_name": "LayoutView",
            "align_content": null,
            "align_items": null,
            "align_self": null,
            "border": null,
            "bottom": null,
            "display": null,
            "flex": null,
            "flex_flow": null,
            "grid_area": null,
            "grid_auto_columns": null,
            "grid_auto_flow": null,
            "grid_auto_rows": null,
            "grid_column": null,
            "grid_gap": null,
            "grid_row": null,
            "grid_template_areas": null,
            "grid_template_columns": null,
            "grid_template_rows": null,
            "height": null,
            "justify_content": null,
            "justify_items": null,
            "left": null,
            "margin": null,
            "max_height": null,
            "max_width": null,
            "min_height": null,
            "min_width": null,
            "object_fit": null,
            "object_position": null,
            "order": null,
            "overflow": null,
            "overflow_x": null,
            "overflow_y": null,
            "padding": null,
            "right": null,
            "top": null,
            "visibility": null,
            "width": null
          }
        },
        "83760ba8388a48bcb9d8568b2bd8a687": {
          "model_module": "@jupyter-widgets/controls",
          "model_name": "SliderStyleModel",
          "model_module_version": "1.5.0",
          "state": {
            "_model_module": "@jupyter-widgets/controls",
            "_model_module_version": "1.5.0",
            "_model_name": "SliderStyleModel",
            "_view_count": null,
            "_view_module": "@jupyter-widgets/base",
            "_view_module_version": "1.2.0",
            "_view_name": "StyleView",
            "description_width": "",
            "handle_color": null
          }
        },
        "b61694a3b76f4167bb3ac529c54f2780": {
          "model_module": "@jupyter-widgets/controls",
          "model_name": "IntSliderModel",
          "model_module_version": "1.5.0",
          "state": {
            "_dom_classes": [],
            "_model_module": "@jupyter-widgets/controls",
            "_model_module_version": "1.5.0",
            "_model_name": "IntSliderModel",
            "_view_count": null,
            "_view_module": "@jupyter-widgets/controls",
            "_view_module_version": "1.5.0",
            "_view_name": "IntSliderView",
            "continuous_update": true,
            "description": "Side Length:",
            "description_tooltip": null,
            "disabled": false,
            "layout": "IPY_MODEL_2878477898234bf697c80df0955562b1",
            "max": 10,
            "min": 1,
            "orientation": "horizontal",
            "readout": true,
            "readout_format": "d",
            "step": 1,
            "style": "IPY_MODEL_d62e7213eed642019fa2be417077bed3",
            "value": 5
          }
        },
        "2878477898234bf697c80df0955562b1": {
          "model_module": "@jupyter-widgets/base",
          "model_name": "LayoutModel",
          "model_module_version": "1.2.0",
          "state": {
            "_model_module": "@jupyter-widgets/base",
            "_model_module_version": "1.2.0",
            "_model_name": "LayoutModel",
            "_view_count": null,
            "_view_module": "@jupyter-widgets/base",
            "_view_module_version": "1.2.0",
            "_view_name": "LayoutView",
            "align_content": null,
            "align_items": null,
            "align_self": null,
            "border": null,
            "bottom": null,
            "display": null,
            "flex": null,
            "flex_flow": null,
            "grid_area": null,
            "grid_auto_columns": null,
            "grid_auto_flow": null,
            "grid_auto_rows": null,
            "grid_column": null,
            "grid_gap": null,
            "grid_row": null,
            "grid_template_areas": null,
            "grid_template_columns": null,
            "grid_template_rows": null,
            "height": null,
            "justify_content": null,
            "justify_items": null,
            "left": null,
            "margin": null,
            "max_height": null,
            "max_width": null,
            "min_height": null,
            "min_width": null,
            "object_fit": null,
            "object_position": null,
            "order": null,
            "overflow": null,
            "overflow_x": null,
            "overflow_y": null,
            "padding": null,
            "right": null,
            "top": null,
            "visibility": null,
            "width": null
          }
        },
        "d62e7213eed642019fa2be417077bed3": {
          "model_module": "@jupyter-widgets/controls",
          "model_name": "SliderStyleModel",
          "model_module_version": "1.5.0",
          "state": {
            "_model_module": "@jupyter-widgets/controls",
            "_model_module_version": "1.5.0",
            "_model_name": "SliderStyleModel",
            "_view_count": null,
            "_view_module": "@jupyter-widgets/base",
            "_view_module_version": "1.2.0",
            "_view_name": "StyleView",
            "description_width": "",
            "handle_color": null
          }
        },
        "f1a423be2cf9407a854b388db4466e25": {
          "model_module": "@jupyter-widgets/controls",
          "model_name": "ButtonModel",
          "model_module_version": "1.5.0",
          "state": {
            "_dom_classes": [],
            "_model_module": "@jupyter-widgets/controls",
            "_model_module_version": "1.5.0",
            "_model_name": "ButtonModel",
            "_view_count": null,
            "_view_module": "@jupyter-widgets/controls",
            "_view_module_version": "1.5.0",
            "_view_name": "ButtonView",
            "button_style": "",
            "description": "Draw Square",
            "disabled": false,
            "icon": "",
            "layout": "IPY_MODEL_e32d2778f6e5407e9c93683a4e2e25c0",
            "style": "IPY_MODEL_d66a7972ff2341048a30900463bb3c77",
            "tooltip": ""
          }
        },
        "e32d2778f6e5407e9c93683a4e2e25c0": {
          "model_module": "@jupyter-widgets/base",
          "model_name": "LayoutModel",
          "model_module_version": "1.2.0",
          "state": {
            "_model_module": "@jupyter-widgets/base",
            "_model_module_version": "1.2.0",
            "_model_name": "LayoutModel",
            "_view_count": null,
            "_view_module": "@jupyter-widgets/base",
            "_view_module_version": "1.2.0",
            "_view_name": "LayoutView",
            "align_content": null,
            "align_items": null,
            "align_self": null,
            "border": null,
            "bottom": null,
            "display": null,
            "flex": null,
            "flex_flow": null,
            "grid_area": null,
            "grid_auto_columns": null,
            "grid_auto_flow": null,
            "grid_auto_rows": null,
            "grid_column": null,
            "grid_gap": null,
            "grid_row": null,
            "grid_template_areas": null,
            "grid_template_columns": null,
            "grid_template_rows": null,
            "height": null,
            "justify_content": null,
            "justify_items": null,
            "left": null,
            "margin": null,
            "max_height": null,
            "max_width": null,
            "min_height": null,
            "min_width": null,
            "object_fit": null,
            "object_position": null,
            "order": null,
            "overflow": null,
            "overflow_x": null,
            "overflow_y": null,
            "padding": null,
            "right": null,
            "top": null,
            "visibility": null,
            "width": null
          }
        },
        "d66a7972ff2341048a30900463bb3c77": {
          "model_module": "@jupyter-widgets/controls",
          "model_name": "ButtonStyleModel",
          "model_module_version": "1.5.0",
          "state": {
            "_model_module": "@jupyter-widgets/controls",
            "_model_module_version": "1.5.0",
            "_model_name": "ButtonStyleModel",
            "_view_count": null,
            "_view_module": "@jupyter-widgets/base",
            "_view_module_version": "1.2.0",
            "_view_name": "StyleView",
            "button_color": null,
            "font_weight": ""
          }
        },
        "704f03e2f3804dd9b5f322b9c86da32f": {
          "model_module": "@jupyter-widgets/output",
          "model_name": "OutputModel",
          "model_module_version": "1.0.0",
          "state": {
            "_dom_classes": [],
            "_model_module": "@jupyter-widgets/output",
            "_model_module_version": "1.0.0",
            "_model_name": "OutputModel",
            "_view_count": null,
            "_view_module": "@jupyter-widgets/output",
            "_view_module_version": "1.0.0",
            "_view_name": "OutputView",
            "layout": "IPY_MODEL_85a2a60be6c94980a4003cb0409be1f2",
            "msg_id": "",
            "outputs": [
              {
                "output_type": "stream",
                "name": "stdout",
                "text": [
                  "+-----------------------------------+\n",
                  "|R * * * * *|\n",
                  "|*         *|\n",
                  "|*         *|\n",
                  "|*         *|\n",
                  "|*         *|\n",
                  "|* * * * * *|\n",
                  "||\n",
                  "||\n",
                  "||\n",
                  "||\n",
                  "||\n",
                  "||\n",
                  "||\n",
                  "||\n",
                  "||\n",
                  "||\n",
                  "||\n",
                  "||\n",
                  "+-----------------------------------+\n"
                ]
              }
            ]
          }
        },
        "85a2a60be6c94980a4003cb0409be1f2": {
          "model_module": "@jupyter-widgets/base",
          "model_name": "LayoutModel",
          "model_module_version": "1.2.0",
          "state": {
            "_model_module": "@jupyter-widgets/base",
            "_model_module_version": "1.2.0",
            "_model_name": "LayoutModel",
            "_view_count": null,
            "_view_module": "@jupyter-widgets/base",
            "_view_module_version": "1.2.0",
            "_view_name": "LayoutView",
            "align_content": null,
            "align_items": null,
            "align_self": null,
            "border": null,
            "bottom": null,
            "display": null,
            "flex": null,
            "flex_flow": null,
            "grid_area": null,
            "grid_auto_columns": null,
            "grid_auto_flow": null,
            "grid_auto_rows": null,
            "grid_column": null,
            "grid_gap": null,
            "grid_row": null,
            "grid_template_areas": null,
            "grid_template_columns": null,
            "grid_template_rows": null,
            "height": null,
            "justify_content": null,
            "justify_items": null,
            "left": null,
            "margin": null,
            "max_height": null,
            "max_width": null,
            "min_height": null,
            "min_width": null,
            "object_fit": null,
            "object_position": null,
            "order": null,
            "overflow": null,
            "overflow_x": null,
            "overflow_y": null,
            "padding": null,
            "right": null,
            "top": null,
            "visibility": null,
            "width": null
          }
        }
      }
    }
  },
  "cells": [
    {
      "cell_type": "markdown",
      "metadata": {
        "id": "view-in-github",
        "colab_type": "text"
      },
      "source": [
        "<a href=\"https://colab.research.google.com/github/25d117/class01/blob/main/%EC%88%9C%EC%B0%A8%EA%B5%AC%EC%A1%B0_%ED%94%84%EB%A1%9C%EA%B7%B8%EB%9E%98%EB%B0%8D.ipynb\" target=\"_parent\"><img src=\"https://colab.research.google.com/assets/colab-badge.svg\" alt=\"Open In Colab\"/></a>"
      ]
    },
    {
      "cell_type": "code",
      "execution_count": 9,
      "metadata": {
        "colab": {
          "base_uri": "https://localhost:8080/",
          "height": 480,
          "referenced_widgets": [
            "6e14ff9dd60e43fdaf4c77b747e22d6e",
            "e155fb4238244ab9b6a6cc7fa046bb39",
            "83760ba8388a48bcb9d8568b2bd8a687",
            "b61694a3b76f4167bb3ac529c54f2780",
            "2878477898234bf697c80df0955562b1",
            "d62e7213eed642019fa2be417077bed3",
            "f1a423be2cf9407a854b388db4466e25",
            "e32d2778f6e5407e9c93683a4e2e25c0",
            "d66a7972ff2341048a30900463bb3c77",
            "704f03e2f3804dd9b5f322b9c86da32f",
            "85a2a60be6c94980a4003cb0409be1f2"
          ]
        },
        "id": "fJ4Ls-Sdh5xF",
        "outputId": "ad88c7b7-e236-4fd5-f8a4-4788480404bd"
      },
      "outputs": [
        {
          "output_type": "display_data",
          "data": {
            "text/plain": [
              "IntSlider(value=10, description='Grid Size:', max=20, min=5)"
            ],
            "application/vnd.jupyter.widget-view+json": {
              "version_major": 2,
              "version_minor": 0,
              "model_id": "6e14ff9dd60e43fdaf4c77b747e22d6e"
            }
          },
          "metadata": {}
        },
        {
          "output_type": "display_data",
          "data": {
            "text/plain": [
              "IntSlider(value=5, description='Side Length:', max=10, min=1)"
            ],
            "application/vnd.jupyter.widget-view+json": {
              "version_major": 2,
              "version_minor": 0,
              "model_id": "b61694a3b76f4167bb3ac529c54f2780"
            }
          },
          "metadata": {}
        },
        {
          "output_type": "display_data",
          "data": {
            "text/plain": [
              "Button(description='Draw Square', style=ButtonStyle())"
            ],
            "application/vnd.jupyter.widget-view+json": {
              "version_major": 2,
              "version_minor": 0,
              "model_id": "f1a423be2cf9407a854b388db4466e25"
            }
          },
          "metadata": {}
        },
        {
          "output_type": "display_data",
          "data": {
            "text/plain": [
              "Output()"
            ],
            "application/vnd.jupyter.widget-view+json": {
              "version_major": 2,
              "version_minor": 0,
              "model_id": "704f03e2f3804dd9b5f322b9c86da32f"
            }
          },
          "metadata": {}
        }
      ],
      "source": [
        "# prompt: 순차구조프로그래밍을 이용해서 정사각형을 그리는데 지나가는 길에 흔적이 남는 로봇 청소기 프로그래밍 해줘\n",
        "\n",
        "from ipywidgets import interactive, FloatSlider, IntSlider, Button, Output\n",
        "from IPython.display import display, clear_output\n",
        "import time\n",
        "\n",
        "# 로봇 청소기 클래스 정의\n",
        "class RobotVacuum:\n",
        "    def __init__(self, grid_size=10):\n",
        "        self.grid_size = grid_size\n",
        "        self.grid = [[' ' for _ in range(grid_size)] for _ in range(grid_size)]\n",
        "        self.x = 0  # 현재 x 좌표\n",
        "        self.y = 0  # 현재 y 좌표\n",
        "        self.direction = 'right'  # 초기 방향 (right, down, left, up)\n",
        "\n",
        "    def move(self, steps):\n",
        "        \"\"\"로봇을 steps 만큼 이동시키고 지나간 자리를 표시합니다.\"\"\"\n",
        "        for _ in range(steps):\n",
        "            self.grid[self.y][self.x] = '*'  # 현재 위치에 흔적 남기기\n",
        "            if self.direction == 'right':\n",
        "                self.x = (self.x + 1) % self.grid_size\n",
        "            elif self.direction == 'down':\n",
        "                self.y = (self.y + 1) % self.grid_size\n",
        "            elif self.direction == 'left':\n",
        "                self.x = (self.x - 1 + self.grid_size) % self.grid_size\n",
        "            elif self.direction == 'up':\n",
        "                self.y = (self.y - 1 + self.grid_size) % self.grid_size\n",
        "            time.sleep(0.1)  # 움직이는 모습을 시각적으로 보여주기 위한 딜레이\n",
        "\n",
        "    def turn_right(self):\n",
        "        \"\"\"로봇의 방향을 오른쪽으로 90도 회전시킵니다.\"\"\"\n",
        "        if self.direction == 'right':\n",
        "            self.direction = 'down'\n",
        "        elif self.direction == 'down':\n",
        "            self.direction = 'left'\n",
        "        elif self.direction == 'left':\n",
        "            self.direction = 'up'\n",
        "        elif self.direction == 'up':\n",
        "            self.direction = 'right'\n",
        "\n",
        "    def display_grid(self):\n",
        "        \"\"\"현재 그리드 상태를 출력합니다.\"\"\"\n",
        "        clear_output(wait=True)\n",
        "        print(\"+\" + \"-\" * (self.grid_size * 2 - 1) + \"+\")\n",
        "        for r in range(self.grid_size):\n",
        "            row_str = \"|\"\n",
        "            for c in range(self.grid_size):\n",
        "                if r == self.y and c == self.x:\n",
        "                    row_str += \"R \"  # 로봇의 현재 위치 표시\n",
        "                else:\n",
        "                    row_str += self.grid[r][c] + \" \"\n",
        "            row_str = row_str.rstrip() + \"|\"\n",
        "            print(row_str)\n",
        "        print(\"+\" + \"-\" * (self.grid_size * 2 - 1) + \"+\")\n",
        "\n",
        "    def draw_square(self, side_length):\n",
        "        \"\"\"지정된 길이의 정사각형을 그립니다.\"\"\"\n",
        "        # 정사각형을 그리기 위해 네 번 움직이고 회전합니다.\n",
        "        for _ in range(4):\n",
        "            self.move(side_length)\n",
        "            self.display_grid() # 움직일 때마다 그리드 업데이트\n",
        "            self.turn_right()\n",
        "            time.sleep(0.5) # 회전 후 딜레이\n",
        "\n",
        "# 인터랙티브 위젯 설정\n",
        "grid_size_slider = IntSlider(min=5, max=20, step=1, value=10, description='Grid Size:')\n",
        "side_length_slider = IntSlider(min=1, max=10, step=1, value=5, description='Side Length:')\n",
        "run_button = Button(description=\"Draw Square\")\n",
        "output_area = Output()\n",
        "\n",
        "def on_run_button_clicked(b):\n",
        "    with output_area:\n",
        "        clear_output()\n",
        "        robot = RobotVacuum(grid_size=grid_size_slider.value)\n",
        "        robot.draw_square(side_length=side_length_slider.value)\n",
        "\n",
        "run_button.on_click(on_run_button_clicked)\n",
        "\n",
        "# 위젯 표시\n",
        "display(grid_size_slider, side_length_slider, run_button, output_area)\n"
      ]
    }
  ]
}